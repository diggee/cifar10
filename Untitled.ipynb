{
 "cells": [
  {
   "cell_type": "code",
   "execution_count": 1,
   "metadata": {},
   "outputs": [],
   "source": [
    "import pandas as pd\n",
    "import numpy as np\n",
    "import matplotlib.pyplot as plt\n",
    "import seaborn as sns\n",
    "from tensorflow.keras.utils import to_categorical"
   ]
  },
  {
   "cell_type": "code",
   "execution_count": 2,
   "metadata": {},
   "outputs": [],
   "source": [
    "def unpickle(file):\n",
    "    import pickle\n",
    "    with open(file, 'rb') as fo:\n",
    "        dict = pickle.load(fo, encoding='bytes')\n",
    "    return dict"
   ]
  },
  {
   "cell_type": "code",
   "execution_count": 3,
   "metadata": {},
   "outputs": [],
   "source": [
    "train_data = []\n",
    "files = ['data_batch_1', 'data_batch_2', 'data_batch_3', 'data_batch_4', 'data_batch_5']\n",
    "for file in files:\n",
    "    train_data.append(unpickle(file))\n",
    "test_data = unpickle('test_batch')"
   ]
  },
  {
   "cell_type": "code",
   "execution_count": 4,
   "metadata": {},
   "outputs": [],
   "source": [
    "def rearrange_image(image_array, n_size):\n",
    "    new_image_array = np.zeros((n_size, n_size, 3))\n",
    "    count = 0\n",
    "    for i in range(3):\n",
    "        for j in range(n_size):\n",
    "            for k in range(n_size):\n",
    "                new_image_array[j,k,i] = image_array[n_size*count + k]/255\n",
    "            count += 1\n",
    "    return new_image_array"
   ]
  },
  {
   "cell_type": "code",
   "execution_count": 5,
   "metadata": {
    "scrolled": true
   },
   "outputs": [],
   "source": [
    "temp = rearrange_image(train_data[0][b'data'][9040], 32)"
   ]
  },
  {
   "cell_type": "code",
   "execution_count": 6,
   "metadata": {},
   "outputs": [
    {
     "data": {
      "text/plain": [
       "<matplotlib.image.AxesImage at 0x1cdd5019a60>"
      ]
     },
     "execution_count": 6,
     "metadata": {},
     "output_type": "execute_result"
    },
    {
     "data": {
      "image/png": "[encoded data removed]",
      "text/plain": [
       "<Figure size 432x288 with 1 Axes>"
      ]
     },
     "metadata": {
      "needs_background": "light"
     },
     "output_type": "display_data"
    }
   ],
   "source": [
    "plt.imshow(temp)"
   ]
  },
  {
   "cell_type": "code",
   "execution_count": 8,
   "metadata": {},
   "outputs": [],
   "source": [
    "def preprocess_data(train_data, test_data):    \n",
    "    X = np.empty((50000, 32, 32, 3), float)\n",
    "    y = np.empty((50000, 1), int)\n",
    "    counter = 0\n",
    "    for data in train_data:\n",
    "        for i in range(len(data[b'data'])):\n",
    "            X[counter*len(data[b'data']) + i] = rearrange_image(data[b'data'][i], 32)\n",
    "            y[counter*len(data[b'labels']) + i] = data[b'labels'][i]\n",
    "        counter += 1\n",
    "    y = to_categorical(y)\n",
    "    \n",
    "    X_test = np.empty((10000, 32, 32, 3), float)\n",
    "    counter = 0\n",
    "    for i in range(len(test_data[b'data'])):\n",
    "        X_test[counter*len(test_data[b'data']) + i] = rearrange_image(test_data[b'data'][i], 32)\n",
    "    counter += 1\n",
    "    \n",
    "    return X, y, X_test"
   ]
  },
  {
   "cell_type": "code",
   "execution_count": 10,
   "metadata": {},
   "outputs": [],
   "source": [
    "X, y, X_test = preprocess_data(train_data, test_data)"
   ]
  },
  {
   "cell_type": "code",
   "execution_count": 11,
   "metadata": {},
   "outputs": [],
   "source": [
    "import tensorflow as tf\n",
    "from tensorflow.keras.models import Sequential\n",
    "from tensorflow.keras.layers import Dense, Dropout, Conv2D, MaxPooling2D, AveragePooling2D, Flatten, BatchNormalization\n",
    "from tensorflow.keras.callbacks import EarlyStopping, ModelCheckpoint, ReduceLROnPlateau\n",
    "from tensorflow.keras.utils import to_categorical\n",
    "from tensorflow.keras.preprocessing.image import ImageDataGenerator"
   ]
  },
  {
   "cell_type": "code",
   "execution_count": 22,
   "metadata": {},
   "outputs": [],
   "source": [
    "def neural_network(X, y, validation_split):\n",
    "    model = Sequential()\n",
    "    model.add(Conv2D(filters = 64, kernel_size = 3, activation = 'relu', padding = 'same', input_shape = (32,32,3), data_format = 'channels_last'))\n",
    "    model.add(AveragePooling2D(2, padding = 'same'))\n",
    "    model.add(BatchNormalization())\n",
    "    model.add(Conv2D(filters = 128, kernel_size = 3, activation = 'relu', padding = 'same'))\n",
    "    model.add(AveragePooling2D(2, padding = 'same'))\n",
    "    model.add(BatchNormalization())\n",
    "    model.add(Conv2D(filters = 256, kernel_size = 3, activation = 'relu', padding = 'same'))\n",
    "    model.add(AveragePooling2D(2, padding = 'same'))\n",
    "    model.add(BatchNormalization())\n",
    "    model.add(Conv2D(filters = 512, kernel_size = 3, activation = 'relu', padding = 'same'))\n",
    "    model.add(AveragePooling2D(2, padding = 'same'))\n",
    "    model.add(BatchNormalization())\n",
    "    model.add(Flatten())\n",
    "    model.add(Dense(512, 'relu'))\n",
    "    model.add(BatchNormalization())\n",
    "    model.add(Dense(256, 'relu'))\n",
    "    model.add(Dense(10, 'softmax'))\n",
    "    model.summary()    \n",
    "    model.compile(optimizer = 'adam', loss = 'categorical_crossentropy', metrics = ['accuracy'])\n",
    "    checkpoint = ModelCheckpoint('model.h5', monitor = 'val_loss', save_best_only = True, mode = 'min')\n",
    "    stop_early = EarlyStopping(monitor = 'val_loss', patience = 50, mode = 'min', verbose = 1)\n",
    "    reduce_lr = ReduceLROnPlateau(monitor = 'val_loss', factor = 0.5, patience = 30, min_lr = 0.00001, verbose = 1)\n",
    "    \n",
    "    train_datagen = ImageDataGenerator(\n",
    "      rotation_range=40,\n",
    "      width_shift_range=0.2,\n",
    "      height_shift_range=0.2,\n",
    "      shear_range=0.2,\n",
    "      zoom_range=0.2,\n",
    "      fill_mode='nearest',\n",
    "      validation_split = validation_split\n",
    "      )\n",
    "\n",
    "    train_generator = train_datagen.flow(X, y, batch_size = 256, subset = 'training')\n",
    "    valid_generator = train_datagen.flow(X, y, batch_size = 256, subset = 'validation')\n",
    "    history = model.fit(train_generator, epochs = 500, verbose = 1, validation_data = valid_generator, callbacks = [stop_early, checkpoint, reduce_lr])\n",
    "    return model, history"
   ]
  },
  {
   "cell_type": "code",
   "execution_count": 23,
   "metadata": {
    "scrolled": false
   },
   "outputs": [
    {
     "name": "stdout",
     "output_type": "stream",
     "text": [
      "Model: \"sequential_3\"\n",
      "_________________________________________________________________\n",
      "Layer (type)                 Output Shape              Param #   \n",
      "=================================================================\n",
      "conv2d_9 (Conv2D)            (None, 32, 32, 64)        1792      \n",
      "_________________________________________________________________\n",
      "average_pooling2d_8 (Average (None, 16, 16, 64)        0         \n",
      "_________________________________________________________________\n",
      "batch_normalization_10 (Batc (None, 16, 16, 64)        256       \n",
      "_________________________________________________________________\n",
      "conv2d_10 (Conv2D)           (None, 16, 16, 128)       73856     \n",
      "_________________________________________________________________\n",
      "average_pooling2d_9 (Average (None, 8, 8, 128)         0         \n",
      "_________________________________________________________________\n",
      "batch_normalization_11 (Batc (None, 8, 8, 128)         512       \n",
      "_________________________________________________________________\n",
      "conv2d_11 (Conv2D)           (None, 8, 8, 256)         295168    \n",
      "_________________________________________________________________\n",
      "average_pooling2d_10 (Averag (None, 4, 4, 256)         0         \n",
      "_________________________________________________________________\n",
      "batch_normalization_12 (Batc (None, 4, 4, 256)         1024      \n",
      "_________________________________________________________________\n",
      "conv2d_12 (Conv2D)           (None, 4, 4, 512)         1180160   \n",
      "_________________________________________________________________\n",
      "average_pooling2d_11 (Averag (None, 2, 2, 512)         0         \n",
      "_________________________________________________________________\n",
      "batch_normalization_13 (Batc (None, 2, 2, 512)         2048      \n",
      "_________________________________________________________________\n",
      "flatten_2 (Flatten)          (None, 2048)              0         \n",
      "_________________________________________________________________\n",
      "dense_6 (Dense)              (None, 512)               1049088   \n",
      "_________________________________________________________________\n",
      "batch_normalization_14 (Batc (None, 512)               2048      \n",
      "_________________________________________________________________\n",
      "dense_7 (Dense)              (None, 256)               131328    \n",
      "_________________________________________________________________\n",
      "dense_8 (Dense)              (None, 10)                2570      \n",
      "=================================================================\n",
      "Total params: 2,739,850\n",
      "Trainable params: 2,736,906\n",
      "Non-trainable params: 2,944\n",
      "_________________________________________________________________\n",
      "Epoch 1/500\n",
      "157/157 [==============================] - 16s 104ms/step - loss: 1.7772 - accuracy: 0.3644 - val_loss: 3.3188 - val_accuracy: 0.1036\n",
      "Epoch 2/500\n",
      "157/157 [==============================] - 16s 101ms/step - loss: 1.4859 - accuracy: 0.4637 - val_loss: 7.3313 - val_accuracy: 0.1030\n",
      "Epoch 3/500\n",
      "157/157 [==============================] - 16s 103ms/step - loss: 1.3188 - accuracy: 0.5270 - val_loss: 7.9696 - val_accuracy: 0.1034\n",
      "Epoch 4/500\n",
      "157/157 [==============================] - 16s 105ms/step - loss: 1.1986 - accuracy: 0.5691 - val_loss: 2.5551 - val_accuracy: 0.3153\n",
      "Epoch 5/500\n",
      "157/157 [==============================] - 16s 105ms/step - loss: 1.1056 - accuracy: 0.6057 - val_loss: 1.1567 - val_accuracy: 0.5874\n",
      "Epoch 6/500\n",
      "157/157 [==============================] - 16s 102ms/step - loss: 1.0265 - accuracy: 0.6355 - val_loss: 1.4873 - val_accuracy: 0.5088\n",
      "Epoch 7/500\n",
      "157/157 [==============================] - 16s 103ms/step - loss: 0.9578 - accuracy: 0.6582 - val_loss: 1.2420 - val_accuracy: 0.5827\n",
      "Epoch 8/500\n",
      "157/157 [==============================] - 16s 101ms/step - loss: 0.8945 - accuracy: 0.6836 - val_loss: 1.2928 - val_accuracy: 0.5713\n",
      "Epoch 9/500\n",
      "157/157 [==============================] - 16s 102ms/step - loss: 0.8403 - accuracy: 0.7011 - val_loss: 1.0272 - val_accuracy: 0.6379\n",
      "Epoch 10/500\n",
      "157/157 [==============================] - 16s 101ms/step - loss: 0.8005 - accuracy: 0.7198 - val_loss: 0.9716 - val_accuracy: 0.6596\n",
      "Epoch 11/500\n",
      "157/157 [==============================] - 16s 102ms/step - loss: 0.7623 - accuracy: 0.7330 - val_loss: 0.9748 - val_accuracy: 0.6571\n",
      "Epoch 12/500\n",
      "157/157 [==============================] - 16s 102ms/step - loss: 0.7145 - accuracy: 0.7473 - val_loss: 1.2424 - val_accuracy: 0.5929\n",
      "Epoch 13/500\n",
      "157/157 [==============================] - 16s 103ms/step - loss: 0.6898 - accuracy: 0.7588 - val_loss: 0.8920 - val_accuracy: 0.6899\n",
      "Epoch 14/500\n",
      "157/157 [==============================] - 16s 102ms/step - loss: 0.6537 - accuracy: 0.7705 - val_loss: 1.1902 - val_accuracy: 0.6135\n",
      "Epoch 15/500\n",
      "157/157 [==============================] - 16s 102ms/step - loss: 0.6306 - accuracy: 0.7793 - val_loss: 0.9860 - val_accuracy: 0.6700\n",
      "Epoch 16/500\n",
      "157/157 [==============================] - 16s 102ms/step - loss: 0.6042 - accuracy: 0.7887 - val_loss: 0.9977 - val_accuracy: 0.6664\n",
      "Epoch 17/500\n",
      "157/157 [==============================] - 16s 102ms/step - loss: 0.5777 - accuracy: 0.7971 - val_loss: 0.9308 - val_accuracy: 0.6984\n",
      "Epoch 18/500\n",
      "157/157 [==============================] - 16s 101ms/step - loss: 0.5643 - accuracy: 0.8023 - val_loss: 0.8920 - val_accuracy: 0.7067\n",
      "Epoch 19/500\n",
      "157/157 [==============================] - 16s 101ms/step - loss: 0.5334 - accuracy: 0.8108 - val_loss: 0.9602 - val_accuracy: 0.6892\n",
      "Epoch 20/500\n",
      "157/157 [==============================] - 16s 100ms/step - loss: 0.5115 - accuracy: 0.8203 - val_loss: 0.9110 - val_accuracy: 0.7001\n",
      "Epoch 21/500\n",
      "157/157 [==============================] - 16s 101ms/step - loss: 0.5023 - accuracy: 0.8224 - val_loss: 0.8061 - val_accuracy: 0.7314\n",
      "Epoch 22/500\n",
      "157/157 [==============================] - 16s 101ms/step - loss: 0.4796 - accuracy: 0.8283 - val_loss: 0.8464 - val_accuracy: 0.7197\n",
      "Epoch 23/500\n",
      "157/157 [==============================] - 16s 101ms/step - loss: 0.4632 - accuracy: 0.8377 - val_loss: 0.8811 - val_accuracy: 0.7097\n",
      "Epoch 24/500\n",
      "157/157 [==============================] - 16s 101ms/step - loss: 0.4483 - accuracy: 0.8425 - val_loss: 0.8673 - val_accuracy: 0.7223\n",
      "Epoch 25/500\n",
      "157/157 [==============================] - 16s 101ms/step - loss: 0.4397 - accuracy: 0.8421 - val_loss: 0.8321 - val_accuracy: 0.7347\n",
      "Epoch 26/500\n",
      "157/157 [==============================] - 16s 101ms/step - loss: 0.4188 - accuracy: 0.8524 - val_loss: 0.8187 - val_accuracy: 0.7354\n",
      "Epoch 27/500\n",
      "157/157 [==============================] - 16s 100ms/step - loss: 0.4048 - accuracy: 0.8581 - val_loss: 0.8752 - val_accuracy: 0.7287\n",
      "Epoch 28/500\n",
      "157/157 [==============================] - 16s 100ms/step - loss: 0.4056 - accuracy: 0.8583 - val_loss: 0.8294 - val_accuracy: 0.7351\n",
      "Epoch 29/500\n",
      "157/157 [==============================] - 16s 100ms/step - loss: 0.3868 - accuracy: 0.8620 - val_loss: 0.9925 - val_accuracy: 0.6995\n",
      "Epoch 30/500\n",
      "157/157 [==============================] - 16s 100ms/step - loss: 0.3763 - accuracy: 0.8669 - val_loss: 0.8351 - val_accuracy: 0.7377\n",
      "Epoch 31/500\n",
      "157/157 [==============================] - 16s 100ms/step - loss: 0.3683 - accuracy: 0.8687 - val_loss: 0.8904 - val_accuracy: 0.7182\n",
      "Epoch 32/500\n",
      "157/157 [==============================] - 16s 102ms/step - loss: 0.3480 - accuracy: 0.8785 - val_loss: 0.8999 - val_accuracy: 0.7289\n",
      "Epoch 33/500\n",
      "157/157 [==============================] - 16s 102ms/step - loss: 0.3448 - accuracy: 0.8777 - val_loss: 0.8581 - val_accuracy: 0.7387\n",
      "Epoch 34/500\n",
      "157/157 [==============================] - 16s 100ms/step - loss: 0.3411 - accuracy: 0.8795 - val_loss: 0.9619 - val_accuracy: 0.7069\n",
      "Epoch 35/500\n",
      "157/157 [==============================] - 16s 102ms/step - loss: 0.3306 - accuracy: 0.8834 - val_loss: 0.8883 - val_accuracy: 0.7390\n",
      "Epoch 36/500\n",
      "157/157 [==============================] - 16s 101ms/step - loss: 0.3118 - accuracy: 0.8896 - val_loss: 0.9044 - val_accuracy: 0.7295\n",
      "Epoch 37/500\n",
      "157/157 [==============================] - 16s 101ms/step - loss: 0.3025 - accuracy: 0.8937 - val_loss: 0.8158 - val_accuracy: 0.7574\n",
      "Epoch 38/500\n",
      "157/157 [==============================] - 16s 101ms/step - loss: 0.3123 - accuracy: 0.8906 - val_loss: 0.8162 - val_accuracy: 0.7485\n",
      "Epoch 39/500\n"
     ]
    },
    {
     "name": "stdout",
     "output_type": "stream",
     "text": [
      "157/157 [==============================] - 16s 100ms/step - loss: 0.2952 - accuracy: 0.8968 - val_loss: 0.8654 - val_accuracy: 0.7531\n",
      "Epoch 40/500\n",
      "157/157 [==============================] - 16s 100ms/step - loss: 0.2853 - accuracy: 0.8973 - val_loss: 0.9986 - val_accuracy: 0.7257\n",
      "Epoch 41/500\n",
      "157/157 [==============================] - 16s 101ms/step - loss: 0.2865 - accuracy: 0.8999 - val_loss: 0.8925 - val_accuracy: 0.7454\n",
      "Epoch 42/500\n",
      "157/157 [==============================] - 16s 102ms/step - loss: 0.2767 - accuracy: 0.9014 - val_loss: 1.0591 - val_accuracy: 0.7017\n",
      "Epoch 43/500\n",
      "157/157 [==============================] - 16s 102ms/step - loss: 0.2683 - accuracy: 0.9051 - val_loss: 0.8245 - val_accuracy: 0.7591\n",
      "Epoch 44/500\n",
      "157/157 [==============================] - 16s 100ms/step - loss: 0.2643 - accuracy: 0.9060 - val_loss: 0.9531 - val_accuracy: 0.7230\n",
      "Epoch 45/500\n",
      "157/157 [==============================] - 16s 100ms/step - loss: 0.2533 - accuracy: 0.9122 - val_loss: 0.9547 - val_accuracy: 0.7389\n",
      "Epoch 46/500\n",
      "157/157 [==============================] - 16s 101ms/step - loss: 0.2435 - accuracy: 0.9147 - val_loss: 0.9138 - val_accuracy: 0.7427\n",
      "Epoch 47/500\n",
      "157/157 [==============================] - 16s 102ms/step - loss: 0.2451 - accuracy: 0.9133 - val_loss: 0.8783 - val_accuracy: 0.7594\n",
      "Epoch 48/500\n",
      "157/157 [==============================] - 16s 101ms/step - loss: 0.2394 - accuracy: 0.9147 - val_loss: 0.8780 - val_accuracy: 0.7540\n",
      "Epoch 49/500\n",
      "157/157 [==============================] - 16s 101ms/step - loss: 0.2460 - accuracy: 0.9137 - val_loss: 0.9762 - val_accuracy: 0.7169\n",
      "Epoch 50/500\n",
      "157/157 [==============================] - 16s 102ms/step - loss: 0.2292 - accuracy: 0.9190 - val_loss: 0.9095 - val_accuracy: 0.7576\n",
      "Epoch 51/500\n",
      "157/157 [==============================] - ETA: 0s - loss: 0.2327 - accuracy: 0.9182\n",
      "Epoch 00051: ReduceLROnPlateau reducing learning rate to 0.0005000000237487257.\n",
      "157/157 [==============================] - 16s 103ms/step - loss: 0.2327 - accuracy: 0.9182 - val_loss: 0.8633 - val_accuracy: 0.7547\n",
      "Epoch 52/500\n",
      "157/157 [==============================] - 16s 104ms/step - loss: 0.1819 - accuracy: 0.9381 - val_loss: 0.7952 - val_accuracy: 0.7786\n",
      "Epoch 53/500\n",
      "157/157 [==============================] - 16s 103ms/step - loss: 0.1567 - accuracy: 0.9451 - val_loss: 0.7660 - val_accuracy: 0.7901\n",
      "Epoch 54/500\n",
      "157/157 [==============================] - 16s 104ms/step - loss: 0.1537 - accuracy: 0.9477 - val_loss: 0.7979 - val_accuracy: 0.7818\n",
      "Epoch 55/500\n",
      "157/157 [==============================] - 16s 100ms/step - loss: 0.1448 - accuracy: 0.9494 - val_loss: 0.8192 - val_accuracy: 0.7820\n",
      "Epoch 56/500\n",
      "157/157 [==============================] - 16s 102ms/step - loss: 0.1463 - accuracy: 0.9492 - val_loss: 0.7732 - val_accuracy: 0.7935\n",
      "Epoch 57/500\n",
      "157/157 [==============================] - 16s 103ms/step - loss: 0.1335 - accuracy: 0.9539 - val_loss: 0.8794 - val_accuracy: 0.7729\n",
      "Epoch 58/500\n",
      "157/157 [==============================] - 16s 104ms/step - loss: 0.1354 - accuracy: 0.9530 - val_loss: 0.8556 - val_accuracy: 0.7780\n",
      "Epoch 59/500\n",
      "157/157 [==============================] - 16s 103ms/step - loss: 0.1335 - accuracy: 0.9543 - val_loss: 0.8498 - val_accuracy: 0.7895\n",
      "Epoch 60/500\n",
      "157/157 [==============================] - 16s 103ms/step - loss: 0.1360 - accuracy: 0.9531 - val_loss: 0.8188 - val_accuracy: 0.7880\n",
      "Epoch 61/500\n",
      "157/157 [==============================] - 16s 104ms/step - loss: 0.1365 - accuracy: 0.9525 - val_loss: 0.8745 - val_accuracy: 0.7749\n",
      "Epoch 62/500\n",
      "157/157 [==============================] - 16s 104ms/step - loss: 0.1279 - accuracy: 0.9567 - val_loss: 0.9065 - val_accuracy: 0.7733\n",
      "Epoch 63/500\n",
      "157/157 [==============================] - 16s 104ms/step - loss: 0.1268 - accuracy: 0.9556 - val_loss: 0.8453 - val_accuracy: 0.7849\n",
      "Epoch 64/500\n",
      "157/157 [==============================] - 16s 104ms/step - loss: 0.1166 - accuracy: 0.9587 - val_loss: 0.8198 - val_accuracy: 0.7907\n",
      "Epoch 65/500\n",
      "157/157 [==============================] - 16s 103ms/step - loss: 0.1223 - accuracy: 0.9591 - val_loss: 0.9248 - val_accuracy: 0.7752\n",
      "Epoch 66/500\n",
      "157/157 [==============================] - 16s 104ms/step - loss: 0.1259 - accuracy: 0.9569 - val_loss: 0.9666 - val_accuracy: 0.7764\n",
      "Epoch 67/500\n",
      "157/157 [==============================] - 16s 104ms/step - loss: 0.1170 - accuracy: 0.9601 - val_loss: 1.1377 - val_accuracy: 0.7329\n",
      "Epoch 68/500\n",
      "157/157 [==============================] - 16s 103ms/step - loss: 0.1169 - accuracy: 0.9577 - val_loss: 0.8983 - val_accuracy: 0.7786\n",
      "Epoch 69/500\n",
      "157/157 [==============================] - 16s 103ms/step - loss: 0.1170 - accuracy: 0.9594 - val_loss: 0.8320 - val_accuracy: 0.7931\n",
      "Epoch 70/500\n",
      "157/157 [==============================] - 16s 103ms/step - loss: 0.1128 - accuracy: 0.9604 - val_loss: 0.8278 - val_accuracy: 0.7880\n",
      "Epoch 71/500\n",
      "157/157 [==============================] - 16s 105ms/step - loss: 0.1162 - accuracy: 0.9600 - val_loss: 0.8596 - val_accuracy: 0.7914\n",
      "Epoch 72/500\n",
      "157/157 [==============================] - 16s 104ms/step - loss: 0.1080 - accuracy: 0.9618 - val_loss: 0.8499 - val_accuracy: 0.7895\n",
      "Epoch 73/500\n",
      "157/157 [==============================] - 16s 104ms/step - loss: 0.1131 - accuracy: 0.9603 - val_loss: 0.9090 - val_accuracy: 0.7852\n",
      "Epoch 74/500\n",
      "157/157 [==============================] - 16s 105ms/step - loss: 0.1146 - accuracy: 0.9596 - val_loss: 0.8512 - val_accuracy: 0.7890\n",
      "Epoch 75/500\n",
      "157/157 [==============================] - 16s 104ms/step - loss: 0.1079 - accuracy: 0.9633 - val_loss: 0.8482 - val_accuracy: 0.7933\n",
      "Epoch 76/500\n",
      "157/157 [==============================] - 17s 105ms/step - loss: 0.1067 - accuracy: 0.9636 - val_loss: 0.8903 - val_accuracy: 0.7869\n",
      "Epoch 77/500\n",
      "157/157 [==============================] - 16s 104ms/step - loss: 0.1052 - accuracy: 0.9630 - val_loss: 0.9902 - val_accuracy: 0.7771\n",
      "Epoch 78/500\n",
      "157/157 [==============================] - 16s 104ms/step - loss: 0.1055 - accuracy: 0.9629 - val_loss: 0.9591 - val_accuracy: 0.7808\n",
      "Epoch 79/500\n",
      "157/157 [==============================] - 16s 104ms/step - loss: 0.1031 - accuracy: 0.9638 - val_loss: 0.8516 - val_accuracy: 0.7906\n",
      "Epoch 80/500\n",
      "157/157 [==============================] - 16s 104ms/step - loss: 0.1016 - accuracy: 0.9646 - val_loss: 0.9290 - val_accuracy: 0.7842\n",
      "Epoch 81/500\n",
      "157/157 [==============================] - 16s 104ms/step - loss: 0.0999 - accuracy: 0.9664 - val_loss: 0.9236 - val_accuracy: 0.7826\n",
      "Epoch 82/500\n",
      "157/157 [==============================] - 16s 104ms/step - loss: 0.1012 - accuracy: 0.9639 - val_loss: 0.9272 - val_accuracy: 0.7860\n",
      "Epoch 83/500\n",
      "157/157 [==============================] - ETA: 0s - loss: 0.0974 - accuracy: 0.9667\n",
      "Epoch 00083: ReduceLROnPlateau reducing learning rate to 0.0002500000118743628.\n",
      "157/157 [==============================] - 16s 104ms/step - loss: 0.0974 - accuracy: 0.9667 - val_loss: 0.9049 - val_accuracy: 0.7895\n",
      "Epoch 84/500\n",
      "157/157 [==============================] - 16s 104ms/step - loss: 0.0833 - accuracy: 0.9724 - val_loss: 0.8284 - val_accuracy: 0.7968\n",
      "Epoch 85/500\n",
      "157/157 [==============================] - 16s 105ms/step - loss: 0.0719 - accuracy: 0.9759 - val_loss: 0.8602 - val_accuracy: 0.7996\n",
      "Epoch 86/500\n",
      "157/157 [==============================] - 16s 104ms/step - loss: 0.0704 - accuracy: 0.9767 - val_loss: 0.8724 - val_accuracy: 0.8005\n",
      "Epoch 87/500\n",
      "157/157 [==============================] - 16s 104ms/step - loss: 0.0669 - accuracy: 0.9775 - val_loss: 0.9772 - val_accuracy: 0.7840\n",
      "Epoch 88/500\n",
      "157/157 [==============================] - 16s 105ms/step - loss: 0.0686 - accuracy: 0.9773 - val_loss: 0.8348 - val_accuracy: 0.8005\n",
      "Epoch 89/500\n",
      "157/157 [==============================] - 16s 105ms/step - loss: 0.0650 - accuracy: 0.9778 - val_loss: 0.8820 - val_accuracy: 0.7899\n",
      "Epoch 90/500\n",
      "157/157 [==============================] - 16s 104ms/step - loss: 0.0675 - accuracy: 0.9769 - val_loss: 0.8844 - val_accuracy: 0.7991\n",
      "Epoch 91/500\n",
      "157/157 [==============================] - 16s 104ms/step - loss: 0.0633 - accuracy: 0.9783 - val_loss: 0.8529 - val_accuracy: 0.8059\n",
      "Epoch 92/500\n"
     ]
    },
    {
     "name": "stdout",
     "output_type": "stream",
     "text": [
      "157/157 [==============================] - 16s 104ms/step - loss: 0.0609 - accuracy: 0.9794 - val_loss: 0.8805 - val_accuracy: 0.7992\n",
      "Epoch 93/500\n",
      "157/157 [==============================] - 16s 104ms/step - loss: 0.0636 - accuracy: 0.9784 - val_loss: 0.8750 - val_accuracy: 0.8036\n",
      "Epoch 94/500\n",
      "157/157 [==============================] - 16s 104ms/step - loss: 0.0575 - accuracy: 0.9805 - val_loss: 0.8446 - val_accuracy: 0.8022\n",
      "Epoch 95/500\n",
      "157/157 [==============================] - 16s 104ms/step - loss: 0.0615 - accuracy: 0.9791 - val_loss: 0.8926 - val_accuracy: 0.7968\n",
      "Epoch 96/500\n",
      "157/157 [==============================] - 16s 104ms/step - loss: 0.0619 - accuracy: 0.9787 - val_loss: 0.8348 - val_accuracy: 0.8089\n",
      "Epoch 97/500\n",
      "157/157 [==============================] - 16s 104ms/step - loss: 0.0625 - accuracy: 0.9797 - val_loss: 0.9238 - val_accuracy: 0.7990\n",
      "Epoch 98/500\n",
      "157/157 [==============================] - 16s 104ms/step - loss: 0.0592 - accuracy: 0.9800 - val_loss: 0.8673 - val_accuracy: 0.8032\n",
      "Epoch 99/500\n",
      "157/157 [==============================] - 16s 104ms/step - loss: 0.0584 - accuracy: 0.9808 - val_loss: 0.8927 - val_accuracy: 0.8020\n",
      "Epoch 100/500\n",
      "157/157 [==============================] - 16s 104ms/step - loss: 0.0596 - accuracy: 0.9807 - val_loss: 0.9172 - val_accuracy: 0.7948\n",
      "Epoch 101/500\n",
      "157/157 [==============================] - 16s 104ms/step - loss: 0.0589 - accuracy: 0.9802 - val_loss: 0.8982 - val_accuracy: 0.8031\n",
      "Epoch 102/500\n",
      "157/157 [==============================] - 16s 104ms/step - loss: 0.0624 - accuracy: 0.9788 - val_loss: 0.9251 - val_accuracy: 0.7991\n",
      "Epoch 103/500\n",
      "157/157 [==============================] - 16s 104ms/step - loss: 0.0553 - accuracy: 0.9814 - val_loss: 0.8648 - val_accuracy: 0.8024\n",
      "Epoch 00103: early stopping\n"
     ]
    }
   ],
   "source": [
    "model, history = neural_network(X, y, 0.2)"
   ]
  },
  {
   "cell_type": "code",
   "execution_count": 24,
   "metadata": {},
   "outputs": [],
   "source": [
    "def make_plots(history):\n",
    "    plt.figure()\n",
    "    plt.plot(history.history['accuracy'])\n",
    "    plt.plot(history.history['val_accuracy'])\n",
    "    plt.xlabel('Epochs')\n",
    "    plt.ylabel('Accuracy')\n",
    "    plt.legend(['Training', 'Validation'])"
   ]
  },
  {
   "cell_type": "code",
   "execution_count": 25,
   "metadata": {},
   "outputs": [
    {
     "data": {
      "image/png": "[encoded data removed]",
      "text/plain": [
       "<Figure size 432x288 with 1 Axes>"
      ]
     },
     "metadata": {
      "needs_background": "light"
     },
     "output_type": "display_data"
    }
   ],
   "source": [
    "make_plots(history)"
   ]
  },
  {
   "cell_type": "code",
   "execution_count": 26,
   "metadata": {
    "scrolled": true
   },
   "outputs": [
    {
     "name": "stdout",
     "output_type": "stream",
     "text": [
      "WARNING:tensorflow:Callbacks method `on_predict_batch_end` is slow compared to the batch time (batch time: 0.0010s vs `on_predict_batch_end` time: 0.0020s). Check your callbacks.\n",
      "313/313 - 1s\n"
     ]
    }
   ],
   "source": [
    "predictions = model.predict_classes(X_test, verbose = 2)"
   ]
  },
  {
   "cell_type": "code",
   "execution_count": 27,
   "metadata": {},
   "outputs": [
    {
     "name": "stdout",
     "output_type": "stream",
     "text": [
      "              precision    recall  f1-score   support\n",
      "\n",
      "           0       0.85      0.85      0.85      1000\n",
      "           1       0.86      0.92      0.89      1000\n",
      "           2       0.80      0.72      0.76      1000\n",
      "           3       0.67      0.70      0.69      1000\n",
      "           4       0.84      0.75      0.79      1000\n",
      "           5       0.81      0.72      0.76      1000\n",
      "           6       0.79      0.88      0.83      1000\n",
      "           7       0.87      0.86      0.87      1000\n",
      "           8       0.91      0.89      0.90      1000\n",
      "           9       0.81      0.90      0.85      1000\n",
      "\n",
      "    accuracy                           0.82     10000\n",
      "   macro avg       0.82      0.82      0.82     10000\n",
      "weighted avg       0.82      0.82      0.82     10000\n",
      "\n",
      "[[851  16  23  19   4   5   9   4  34  35]\n",
      " [  3 922   0   4   0   1   8   1   5  56]\n",
      " [ 47  13 725  58  41  22  47  22   8  17]\n",
      " [  7  12  38 699  32  94  59  19  13  27]\n",
      " [ 11   2  49  40 753  15  69  45   6  10]\n",
      " [  5   8  25 136  25 716  29  33   6  17]\n",
      " [  8   5  19  48  10   6 883   5   3  13]\n",
      " [ 10   5  17  23  25  26  10 864   6  14]\n",
      " [ 43  26   5   5   3   3   3   0 886  26]\n",
      " [ 12  59   1   6   3   1   4   1  11 902]]\n"
     ]
    }
   ],
   "source": [
    "from sklearn.metrics import confusion_matrix, classification_report\n",
    "print(classification_report(test_data[b'labels'], predictions))\n",
    "print(confusion_matrix(test_data[b'labels'], predictions))"
   ]
  },
  {
   "cell_type": "code",
   "execution_count": null,
   "metadata": {},
   "outputs": [],
   "source": []
  }
 ],
 "metadata": {
  "kernelspec": {
   "display_name": "Python 3",
   "language": "python",
   "name": "python3"
  },
  "language_info": {
   "codemirror_mode": {
    "name": "ipython",
    "version": 3
   },
   "file_extension": ".py",
   "mimetype": "text/x-python",
   "name": "python",
   "nbconvert_exporter": "python",
   "pygments_lexer": "ipython3",
   "version": "3.8.3"
  }
 },
 "nbformat": 4,
 "nbformat_minor": 4
}
